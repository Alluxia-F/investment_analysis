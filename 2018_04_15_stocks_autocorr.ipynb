{
 "cells": [
  {
   "cell_type": "code",
   "execution_count": 275,
   "metadata": {},
   "outputs": [],
   "source": [
    "import pandas as pd\n",
    "from pandas_datareader.data import DataReader\n",
    "from datetime import date,datetime\n",
    "from dateutil.relativedelta import relativedelta\n"
   ]
  },
  {
   "cell_type": "code",
   "execution_count": 276,
   "metadata": {
    "collapsed": true
   },
   "outputs": [],
   "source": [
    "data_source='yahoo'\n",
    "start_date=date(2010,1,1)\n",
    "drop_col=['Open','High','Low','Close','Adj Close','Volume']"
   ]
  },
  {
   "cell_type": "markdown",
   "metadata": {
    "collapsed": true
   },
   "source": [
    "AMAZON\n"
   ]
  },
  {
   "cell_type": "code",
   "execution_count": 277,
   "metadata": {},
   "outputs": [],
   "source": [
    "ticker='AMZN'\n",
    "amazon=DataReader(ticker,data_source,start_date)"
   ]
  },
  {
   "cell_type": "code",
   "execution_count": 278,
   "metadata": {},
   "outputs": [
    {
     "data": {
      "text/html": [
       "<div>\n",
       "<style>\n",
       "    .dataframe thead tr:only-child th {\n",
       "        text-align: right;\n",
       "    }\n",
       "\n",
       "    .dataframe thead th {\n",
       "        text-align: left;\n",
       "    }\n",
       "\n",
       "    .dataframe tbody tr th {\n",
       "        vertical-align: top;\n",
       "    }\n",
       "</style>\n",
       "<table border=\"1\" class=\"dataframe\">\n",
       "  <thead>\n",
       "    <tr style=\"text-align: right;\">\n",
       "      <th></th>\n",
       "      <th>Open</th>\n",
       "      <th>High</th>\n",
       "      <th>Low</th>\n",
       "      <th>Close</th>\n",
       "      <th>Adj Close</th>\n",
       "      <th>Volume</th>\n",
       "      <th>mean</th>\n",
       "    </tr>\n",
       "    <tr>\n",
       "      <th>Date</th>\n",
       "      <th></th>\n",
       "      <th></th>\n",
       "      <th></th>\n",
       "      <th></th>\n",
       "      <th></th>\n",
       "      <th></th>\n",
       "      <th></th>\n",
       "    </tr>\n",
       "  </thead>\n",
       "  <tbody>\n",
       "    <tr>\n",
       "      <th>2010-01-04</th>\n",
       "      <td>136.250000</td>\n",
       "      <td>136.610001</td>\n",
       "      <td>133.139999</td>\n",
       "      <td>133.899994</td>\n",
       "      <td>133.899994</td>\n",
       "      <td>7599900</td>\n",
       "      <td>134.974998</td>\n",
       "    </tr>\n",
       "    <tr>\n",
       "      <th>2010-01-05</th>\n",
       "      <td>133.429993</td>\n",
       "      <td>135.479996</td>\n",
       "      <td>131.809998</td>\n",
       "      <td>134.690002</td>\n",
       "      <td>134.690002</td>\n",
       "      <td>8851900</td>\n",
       "      <td>133.852497</td>\n",
       "    </tr>\n",
       "    <tr>\n",
       "      <th>2010-01-06</th>\n",
       "      <td>134.600006</td>\n",
       "      <td>134.729996</td>\n",
       "      <td>131.649994</td>\n",
       "      <td>132.250000</td>\n",
       "      <td>132.250000</td>\n",
       "      <td>7178800</td>\n",
       "      <td>133.307499</td>\n",
       "    </tr>\n",
       "    <tr>\n",
       "      <th>2010-01-07</th>\n",
       "      <td>132.009995</td>\n",
       "      <td>132.320007</td>\n",
       "      <td>128.800003</td>\n",
       "      <td>130.000000</td>\n",
       "      <td>130.000000</td>\n",
       "      <td>11030200</td>\n",
       "      <td>130.782501</td>\n",
       "    </tr>\n",
       "    <tr>\n",
       "      <th>2010-01-08</th>\n",
       "      <td>130.559998</td>\n",
       "      <td>133.679993</td>\n",
       "      <td>129.029999</td>\n",
       "      <td>133.520004</td>\n",
       "      <td>133.520004</td>\n",
       "      <td>9830500</td>\n",
       "      <td>131.697498</td>\n",
       "    </tr>\n",
       "  </tbody>\n",
       "</table>\n",
       "</div>"
      ],
      "text/plain": [
       "                  Open        High         Low       Close   Adj Close  \\\n",
       "Date                                                                     \n",
       "2010-01-04  136.250000  136.610001  133.139999  133.899994  133.899994   \n",
       "2010-01-05  133.429993  135.479996  131.809998  134.690002  134.690002   \n",
       "2010-01-06  134.600006  134.729996  131.649994  132.250000  132.250000   \n",
       "2010-01-07  132.009995  132.320007  128.800003  130.000000  130.000000   \n",
       "2010-01-08  130.559998  133.679993  129.029999  133.520004  133.520004   \n",
       "\n",
       "              Volume        mean  \n",
       "Date                              \n",
       "2010-01-04   7599900  134.974998  \n",
       "2010-01-05   8851900  133.852497  \n",
       "2010-01-06   7178800  133.307499  \n",
       "2010-01-07  11030200  130.782501  \n",
       "2010-01-08   9830500  131.697498  "
      ]
     },
     "execution_count": 278,
     "metadata": {},
     "output_type": "execute_result"
    }
   ],
   "source": [
    "amazon['mean']=(amazon['Open']+amazon['High']+amazon['Low']+amazon['Close'])/4\n",
    "amazon.head()"
   ]
  },
  {
   "cell_type": "code",
   "execution_count": 279,
   "metadata": {},
   "outputs": [
    {
     "data": {
      "text/html": [
       "<div>\n",
       "<style>\n",
       "    .dataframe thead tr:only-child th {\n",
       "        text-align: right;\n",
       "    }\n",
       "\n",
       "    .dataframe thead th {\n",
       "        text-align: left;\n",
       "    }\n",
       "\n",
       "    .dataframe tbody tr th {\n",
       "        vertical-align: top;\n",
       "    }\n",
       "</style>\n",
       "<table border=\"1\" class=\"dataframe\">\n",
       "  <thead>\n",
       "    <tr style=\"text-align: right;\">\n",
       "      <th></th>\n",
       "      <th>mean</th>\n",
       "    </tr>\n",
       "    <tr>\n",
       "      <th>Date</th>\n",
       "      <th></th>\n",
       "    </tr>\n",
       "  </thead>\n",
       "  <tbody>\n",
       "    <tr>\n",
       "      <th>2010-01-04</th>\n",
       "      <td>134.974998</td>\n",
       "    </tr>\n",
       "    <tr>\n",
       "      <th>2010-01-05</th>\n",
       "      <td>133.852497</td>\n",
       "    </tr>\n",
       "    <tr>\n",
       "      <th>2010-01-06</th>\n",
       "      <td>133.307499</td>\n",
       "    </tr>\n",
       "    <tr>\n",
       "      <th>2010-01-07</th>\n",
       "      <td>130.782501</td>\n",
       "    </tr>\n",
       "    <tr>\n",
       "      <th>2010-01-08</th>\n",
       "      <td>131.697498</td>\n",
       "    </tr>\n",
       "  </tbody>\n",
       "</table>\n",
       "</div>"
      ],
      "text/plain": [
       "                  mean\n",
       "Date                  \n",
       "2010-01-04  134.974998\n",
       "2010-01-05  133.852497\n",
       "2010-01-06  133.307499\n",
       "2010-01-07  130.782501\n",
       "2010-01-08  131.697498"
      ]
     },
     "execution_count": 279,
     "metadata": {},
     "output_type": "execute_result"
    }
   ],
   "source": [
    "amazon_change=amazon.drop(drop_col,axis=1)\n",
    "amazon_change.head()"
   ]
  },
  {
   "cell_type": "code",
   "execution_count": 280,
   "metadata": {},
   "outputs": [
    {
     "data": {
      "text/html": [
       "<div>\n",
       "<style>\n",
       "    .dataframe thead tr:only-child th {\n",
       "        text-align: right;\n",
       "    }\n",
       "\n",
       "    .dataframe thead th {\n",
       "        text-align: left;\n",
       "    }\n",
       "\n",
       "    .dataframe tbody tr th {\n",
       "        vertical-align: top;\n",
       "    }\n",
       "</style>\n",
       "<table border=\"1\" class=\"dataframe\">\n",
       "  <thead>\n",
       "    <tr style=\"text-align: right;\">\n",
       "      <th></th>\n",
       "      <th>mean</th>\n",
       "      <th>pct_change</th>\n",
       "    </tr>\n",
       "    <tr>\n",
       "      <th>Date</th>\n",
       "      <th></th>\n",
       "      <th></th>\n",
       "    </tr>\n",
       "  </thead>\n",
       "  <tbody>\n",
       "    <tr>\n",
       "      <th>2010-01-04</th>\n",
       "      <td>134.974998</td>\n",
       "      <td>NaN</td>\n",
       "    </tr>\n",
       "    <tr>\n",
       "      <th>2010-01-05</th>\n",
       "      <td>133.852497</td>\n",
       "      <td>-0.008316</td>\n",
       "    </tr>\n",
       "    <tr>\n",
       "      <th>2010-01-06</th>\n",
       "      <td>133.307499</td>\n",
       "      <td>-0.004072</td>\n",
       "    </tr>\n",
       "    <tr>\n",
       "      <th>2010-01-07</th>\n",
       "      <td>130.782501</td>\n",
       "      <td>-0.018941</td>\n",
       "    </tr>\n",
       "    <tr>\n",
       "      <th>2010-01-08</th>\n",
       "      <td>131.697498</td>\n",
       "      <td>0.006996</td>\n",
       "    </tr>\n",
       "    <tr>\n",
       "      <th>2010-01-11</th>\n",
       "      <td>131.235001</td>\n",
       "      <td>-0.003512</td>\n",
       "    </tr>\n",
       "    <tr>\n",
       "      <th>2010-01-12</th>\n",
       "      <td>128.177503</td>\n",
       "      <td>-0.023298</td>\n",
       "    </tr>\n",
       "    <tr>\n",
       "      <th>2010-01-13</th>\n",
       "      <td>128.117503</td>\n",
       "      <td>-0.000468</td>\n",
       "    </tr>\n",
       "    <tr>\n",
       "      <th>2010-01-14</th>\n",
       "      <td>128.317501</td>\n",
       "      <td>0.001561</td>\n",
       "    </tr>\n",
       "    <tr>\n",
       "      <th>2010-01-15</th>\n",
       "      <td>128.257496</td>\n",
       "      <td>-0.000468</td>\n",
       "    </tr>\n",
       "  </tbody>\n",
       "</table>\n",
       "</div>"
      ],
      "text/plain": [
       "                  mean  pct_change\n",
       "Date                              \n",
       "2010-01-04  134.974998         NaN\n",
       "2010-01-05  133.852497   -0.008316\n",
       "2010-01-06  133.307499   -0.004072\n",
       "2010-01-07  130.782501   -0.018941\n",
       "2010-01-08  131.697498    0.006996\n",
       "2010-01-11  131.235001   -0.003512\n",
       "2010-01-12  128.177503   -0.023298\n",
       "2010-01-13  128.117503   -0.000468\n",
       "2010-01-14  128.317501    0.001561\n",
       "2010-01-15  128.257496   -0.000468"
      ]
     },
     "execution_count": 280,
     "metadata": {},
     "output_type": "execute_result"
    }
   ],
   "source": [
    "amazon_change['pct_change']=amazon_change['mean'].pct_change()\n",
    "amazon_change.head(10)"
   ]
  },
  {
   "cell_type": "code",
   "execution_count": 281,
   "metadata": {},
   "outputs": [
    {
     "name": "stdout",
     "output_type": "stream",
     "text": [
      "Over the past 8 years, the auto-correlation of amazon daily point change: 0.17460972374835526\n"
     ]
    }
   ],
   "source": [
    "amazon_autocorr=amazon_change['pct_change'].autocorr()\n",
    "print('Over the past 8 years, the auto-correlation of amazon daily point change: {}'.format(amazon_autocorr))"
   ]
  },
  {
   "cell_type": "code",
   "execution_count": 282,
   "metadata": {},
   "outputs": [
    {
     "name": "stdout",
     "output_type": "stream",
     "text": [
      "Over the past 3 years, the auto-correlation of amazon daily point change is:0.12575259043433584 \n"
     ]
    }
   ],
   "source": [
    "print('Over the past 3 years, the auto-correlation of amazon daily point change is:0.12575259043433584 ')"
   ]
  },
  {
   "cell_type": "markdown",
   "metadata": {},
   "source": [
    "NVIDIA"
   ]
  },
  {
   "cell_type": "code",
   "execution_count": 283,
   "metadata": {},
   "outputs": [
    {
     "data": {
      "text/html": [
       "<div>\n",
       "<style>\n",
       "    .dataframe thead tr:only-child th {\n",
       "        text-align: right;\n",
       "    }\n",
       "\n",
       "    .dataframe thead th {\n",
       "        text-align: left;\n",
       "    }\n",
       "\n",
       "    .dataframe tbody tr th {\n",
       "        vertical-align: top;\n",
       "    }\n",
       "</style>\n",
       "<table border=\"1\" class=\"dataframe\">\n",
       "  <thead>\n",
       "    <tr style=\"text-align: right;\">\n",
       "      <th></th>\n",
       "      <th>Open</th>\n",
       "      <th>High</th>\n",
       "      <th>Low</th>\n",
       "      <th>Close</th>\n",
       "      <th>Adj Close</th>\n",
       "      <th>Volume</th>\n",
       "    </tr>\n",
       "    <tr>\n",
       "      <th>Date</th>\n",
       "      <th></th>\n",
       "      <th></th>\n",
       "      <th></th>\n",
       "      <th></th>\n",
       "      <th></th>\n",
       "      <th></th>\n",
       "    </tr>\n",
       "  </thead>\n",
       "  <tbody>\n",
       "    <tr>\n",
       "      <th>2010-01-04</th>\n",
       "      <td>18.510000</td>\n",
       "      <td>18.620001</td>\n",
       "      <td>18.110001</td>\n",
       "      <td>18.490000</td>\n",
       "      <td>17.132725</td>\n",
       "      <td>20005100</td>\n",
       "    </tr>\n",
       "    <tr>\n",
       "      <th>2010-01-05</th>\n",
       "      <td>18.420000</td>\n",
       "      <td>18.959999</td>\n",
       "      <td>18.420000</td>\n",
       "      <td>18.760000</td>\n",
       "      <td>17.382906</td>\n",
       "      <td>18216200</td>\n",
       "    </tr>\n",
       "    <tr>\n",
       "      <th>2010-01-06</th>\n",
       "      <td>18.750000</td>\n",
       "      <td>18.920000</td>\n",
       "      <td>18.570000</td>\n",
       "      <td>18.879999</td>\n",
       "      <td>17.494093</td>\n",
       "      <td>16229200</td>\n",
       "    </tr>\n",
       "    <tr>\n",
       "      <th>2010-01-07</th>\n",
       "      <td>18.780001</td>\n",
       "      <td>18.860001</td>\n",
       "      <td>18.370001</td>\n",
       "      <td>18.510000</td>\n",
       "      <td>17.151255</td>\n",
       "      <td>13694800</td>\n",
       "    </tr>\n",
       "    <tr>\n",
       "      <th>2010-01-08</th>\n",
       "      <td>18.360001</td>\n",
       "      <td>18.680000</td>\n",
       "      <td>18.250000</td>\n",
       "      <td>18.549999</td>\n",
       "      <td>17.188318</td>\n",
       "      <td>11954200</td>\n",
       "    </tr>\n",
       "  </tbody>\n",
       "</table>\n",
       "</div>"
      ],
      "text/plain": [
       "                 Open       High        Low      Close  Adj Close    Volume\n",
       "Date                                                                       \n",
       "2010-01-04  18.510000  18.620001  18.110001  18.490000  17.132725  20005100\n",
       "2010-01-05  18.420000  18.959999  18.420000  18.760000  17.382906  18216200\n",
       "2010-01-06  18.750000  18.920000  18.570000  18.879999  17.494093  16229200\n",
       "2010-01-07  18.780001  18.860001  18.370001  18.510000  17.151255  13694800\n",
       "2010-01-08  18.360001  18.680000  18.250000  18.549999  17.188318  11954200"
      ]
     },
     "execution_count": 283,
     "metadata": {},
     "output_type": "execute_result"
    }
   ],
   "source": [
    "start_date=date(2010,1,1)\n",
    "ticker='NVDA'\n",
    "nvidia=DataReader(ticker,data_source,start_date)\n",
    "nvidia.head()"
   ]
  },
  {
   "cell_type": "code",
   "execution_count": 284,
   "metadata": {},
   "outputs": [
    {
     "data": {
      "text/html": [
       "<div>\n",
       "<style>\n",
       "    .dataframe thead tr:only-child th {\n",
       "        text-align: right;\n",
       "    }\n",
       "\n",
       "    .dataframe thead th {\n",
       "        text-align: left;\n",
       "    }\n",
       "\n",
       "    .dataframe tbody tr th {\n",
       "        vertical-align: top;\n",
       "    }\n",
       "</style>\n",
       "<table border=\"1\" class=\"dataframe\">\n",
       "  <thead>\n",
       "    <tr style=\"text-align: right;\">\n",
       "      <th></th>\n",
       "      <th>Open</th>\n",
       "      <th>High</th>\n",
       "      <th>Low</th>\n",
       "      <th>Close</th>\n",
       "      <th>Adj Close</th>\n",
       "      <th>Volume</th>\n",
       "      <th>mean</th>\n",
       "    </tr>\n",
       "    <tr>\n",
       "      <th>Date</th>\n",
       "      <th></th>\n",
       "      <th></th>\n",
       "      <th></th>\n",
       "      <th></th>\n",
       "      <th></th>\n",
       "      <th></th>\n",
       "      <th></th>\n",
       "    </tr>\n",
       "  </thead>\n",
       "  <tbody>\n",
       "    <tr>\n",
       "      <th>2010-01-04</th>\n",
       "      <td>18.510000</td>\n",
       "      <td>18.620001</td>\n",
       "      <td>18.110001</td>\n",
       "      <td>18.490000</td>\n",
       "      <td>17.132725</td>\n",
       "      <td>20005100</td>\n",
       "      <td>18.432500</td>\n",
       "    </tr>\n",
       "    <tr>\n",
       "      <th>2010-01-05</th>\n",
       "      <td>18.420000</td>\n",
       "      <td>18.959999</td>\n",
       "      <td>18.420000</td>\n",
       "      <td>18.760000</td>\n",
       "      <td>17.382906</td>\n",
       "      <td>18216200</td>\n",
       "      <td>18.640000</td>\n",
       "    </tr>\n",
       "    <tr>\n",
       "      <th>2010-01-06</th>\n",
       "      <td>18.750000</td>\n",
       "      <td>18.920000</td>\n",
       "      <td>18.570000</td>\n",
       "      <td>18.879999</td>\n",
       "      <td>17.494093</td>\n",
       "      <td>16229200</td>\n",
       "      <td>18.780000</td>\n",
       "    </tr>\n",
       "    <tr>\n",
       "      <th>2010-01-07</th>\n",
       "      <td>18.780001</td>\n",
       "      <td>18.860001</td>\n",
       "      <td>18.370001</td>\n",
       "      <td>18.510000</td>\n",
       "      <td>17.151255</td>\n",
       "      <td>13694800</td>\n",
       "      <td>18.630001</td>\n",
       "    </tr>\n",
       "    <tr>\n",
       "      <th>2010-01-08</th>\n",
       "      <td>18.360001</td>\n",
       "      <td>18.680000</td>\n",
       "      <td>18.250000</td>\n",
       "      <td>18.549999</td>\n",
       "      <td>17.188318</td>\n",
       "      <td>11954200</td>\n",
       "      <td>18.460000</td>\n",
       "    </tr>\n",
       "  </tbody>\n",
       "</table>\n",
       "</div>"
      ],
      "text/plain": [
       "                 Open       High        Low      Close  Adj Close    Volume  \\\n",
       "Date                                                                          \n",
       "2010-01-04  18.510000  18.620001  18.110001  18.490000  17.132725  20005100   \n",
       "2010-01-05  18.420000  18.959999  18.420000  18.760000  17.382906  18216200   \n",
       "2010-01-06  18.750000  18.920000  18.570000  18.879999  17.494093  16229200   \n",
       "2010-01-07  18.780001  18.860001  18.370001  18.510000  17.151255  13694800   \n",
       "2010-01-08  18.360001  18.680000  18.250000  18.549999  17.188318  11954200   \n",
       "\n",
       "                 mean  \n",
       "Date                   \n",
       "2010-01-04  18.432500  \n",
       "2010-01-05  18.640000  \n",
       "2010-01-06  18.780000  \n",
       "2010-01-07  18.630001  \n",
       "2010-01-08  18.460000  "
      ]
     },
     "execution_count": 284,
     "metadata": {},
     "output_type": "execute_result"
    }
   ],
   "source": [
    "nvidia['mean']=(nvidia['Open']+nvidia['High']+nvidia['Low']+nvidia['Close'])/4\n",
    "nvidia.head()"
   ]
  },
  {
   "cell_type": "code",
   "execution_count": 285,
   "metadata": {},
   "outputs": [
    {
     "data": {
      "text/html": [
       "<div>\n",
       "<style>\n",
       "    .dataframe thead tr:only-child th {\n",
       "        text-align: right;\n",
       "    }\n",
       "\n",
       "    .dataframe thead th {\n",
       "        text-align: left;\n",
       "    }\n",
       "\n",
       "    .dataframe tbody tr th {\n",
       "        vertical-align: top;\n",
       "    }\n",
       "</style>\n",
       "<table border=\"1\" class=\"dataframe\">\n",
       "  <thead>\n",
       "    <tr style=\"text-align: right;\">\n",
       "      <th></th>\n",
       "      <th>mean</th>\n",
       "      <th>pct_change</th>\n",
       "    </tr>\n",
       "    <tr>\n",
       "      <th>Date</th>\n",
       "      <th></th>\n",
       "      <th></th>\n",
       "    </tr>\n",
       "  </thead>\n",
       "  <tbody>\n",
       "    <tr>\n",
       "      <th>2010-01-04</th>\n",
       "      <td>18.432500</td>\n",
       "      <td>NaN</td>\n",
       "    </tr>\n",
       "    <tr>\n",
       "      <th>2010-01-05</th>\n",
       "      <td>18.640000</td>\n",
       "      <td>0.011257</td>\n",
       "    </tr>\n",
       "    <tr>\n",
       "      <th>2010-01-06</th>\n",
       "      <td>18.780000</td>\n",
       "      <td>0.007511</td>\n",
       "    </tr>\n",
       "    <tr>\n",
       "      <th>2010-01-07</th>\n",
       "      <td>18.630001</td>\n",
       "      <td>-0.007987</td>\n",
       "    </tr>\n",
       "    <tr>\n",
       "      <th>2010-01-08</th>\n",
       "      <td>18.460000</td>\n",
       "      <td>-0.009125</td>\n",
       "    </tr>\n",
       "  </tbody>\n",
       "</table>\n",
       "</div>"
      ],
      "text/plain": [
       "                 mean  pct_change\n",
       "Date                             \n",
       "2010-01-04  18.432500         NaN\n",
       "2010-01-05  18.640000    0.011257\n",
       "2010-01-06  18.780000    0.007511\n",
       "2010-01-07  18.630001   -0.007987\n",
       "2010-01-08  18.460000   -0.009125"
      ]
     },
     "execution_count": 285,
     "metadata": {},
     "output_type": "execute_result"
    }
   ],
   "source": [
    "nvidia_change=nvidia.drop(drop_col,axis=1)\n",
    "nvidia_change['pct_change']=nvidia['mean'].pct_change()\n",
    "nvidia_change.head()"
   ]
  },
  {
   "cell_type": "code",
   "execution_count": 286,
   "metadata": {},
   "outputs": [
    {
     "name": "stdout",
     "output_type": "stream",
     "text": [
      "Over the past 8 years, the auto-correlation of nvidia daily point change is :0.2448215586686418\n"
     ]
    }
   ],
   "source": [
    "nvidia_autocorr=nvidia_change['pct_change'].autocorr()\n",
    "print('Over the past 8 years, the auto-correlation of nvidia daily point change is :{}'.format(nvidia_autocorr))"
   ]
  },
  {
   "cell_type": "code",
   "execution_count": 287,
   "metadata": {},
   "outputs": [
    {
     "name": "stdout",
     "output_type": "stream",
     "text": [
      "Over the past 3 years, the auto-correlation of nvidia daily point change is: 0.18380145228766412\n"
     ]
    }
   ],
   "source": [
    "print('Over the past 3 years, the auto-correlation of nvidia daily point change is: 0.18380145228766412')"
   ]
  },
  {
   "cell_type": "code",
   "execution_count": 288,
   "metadata": {},
   "outputs": [],
   "source": [
    "data_source='yahoo'\n",
    "drop_col=['Open','High','Low','Close','Adj Close','Volume']\n",
    "\n",
    "start_date=date(2010,1,1)\n",
    "now=date.today()\n",
    "difference=relativedelta(now,start_date)\n",
    "years=difference.years"
   ]
  },
  {
   "cell_type": "code",
   "execution_count": 289,
   "metadata": {
    "collapsed": true
   },
   "outputs": [],
   "source": [
    "def stock_autocorr(ticker): \n",
    "    stock=DataReader(ticker,data_source,start_date)\n",
    "    stock['mean']=(stock['Open']+stock['High']+stock['Low']+stock['Close'])/4\n",
    "    stock_change=stock.drop(drop_col,axis=1)\n",
    "    stock_change['pct_change']=stock_change.pct_change()\n",
    "    stock_autocorr=stock_change['pct_change'].autocorr()\n",
    "    print('Over the past {0} years, the auto-correlation of {1} daily point change is:{2}'.format(years,ticker,stock_autocorr))\n",
    "    "
   ]
  },
  {
   "cell_type": "markdown",
   "metadata": {},
   "source": [
    "Google(Alphabet)"
   ]
  },
  {
   "cell_type": "code",
   "execution_count": 291,
   "metadata": {},
   "outputs": [
    {
     "name": "stdout",
     "output_type": "stream",
     "text": [
      "Over the past 8 years, the auto-correlation of GOOG daily point change is:0.22111125898783565\n"
     ]
    }
   ],
   "source": [
    "stock_autocorr('GOOG')"
   ]
  },
  {
   "cell_type": "code",
   "execution_count": 292,
   "metadata": {},
   "outputs": [
    {
     "name": "stdout",
     "output_type": "stream",
     "text": [
      "Over the past 3 years, the auto-correlation of Google daily Point change is: 0.2259410857491946\n"
     ]
    }
   ],
   "source": [
    "print('Over the past 3 years, the auto-correlation of Google daily Point change is: 0.2259410857491946')"
   ]
  },
  {
   "cell_type": "markdown",
   "metadata": {},
   "source": [
    "APPLE"
   ]
  },
  {
   "cell_type": "code",
   "execution_count": 293,
   "metadata": {},
   "outputs": [
    {
     "name": "stdout",
     "output_type": "stream",
     "text": [
      "Over the past 8 years, the auto-correlation of AAPL daily point change is:0.20039656118174148\n"
     ]
    }
   ],
   "source": [
    "stock_autocorr('AAPL')"
   ]
  },
  {
   "cell_type": "code",
   "execution_count": 294,
   "metadata": {},
   "outputs": [
    {
     "name": "stdout",
     "output_type": "stream",
     "text": [
      "Over the past 3 years, the auto-correlation of Apple daily Point Change is: 0.15088294354316298\n"
     ]
    }
   ],
   "source": [
    "print('Over the past 3 years, the auto-correlation of Apple daily Point Change is: 0.15088294354316298')"
   ]
  },
  {
   "cell_type": "markdown",
   "metadata": {},
   "source": [
    "Berkshire Hathaway"
   ]
  },
  {
   "cell_type": "code",
   "execution_count": 295,
   "metadata": {},
   "outputs": [
    {
     "name": "stdout",
     "output_type": "stream",
     "text": [
      "Over the past 8 years, the auto-correlation of BRK-B daily point change is:0.18994544945674022\n"
     ]
    }
   ],
   "source": [
    "stock_autocorr('BRK-B')"
   ]
  },
  {
   "cell_type": "code",
   "execution_count": 296,
   "metadata": {},
   "outputs": [
    {
     "name": "stdout",
     "output_type": "stream",
     "text": [
      "Over the past 3 years, the auto-correlation of Berkshire Daily Point Change is: 0.17142064371995525\n"
     ]
    }
   ],
   "source": [
    "print('Over the past 3 years, the auto-correlation of Berkshire Daily Point Change is: 0.17142064371995525')"
   ]
  },
  {
   "cell_type": "markdown",
   "metadata": {},
   "source": [
    "COSTCO"
   ]
  },
  {
   "cell_type": "code",
   "execution_count": 297,
   "metadata": {},
   "outputs": [
    {
     "name": "stdout",
     "output_type": "stream",
     "text": [
      "Over the past 8 years, the auto-correlation of COST daily point change is:0.1943021309140868\n"
     ]
    }
   ],
   "source": [
    "stock_autocorr('COST')"
   ]
  },
  {
   "cell_type": "code",
   "execution_count": 298,
   "metadata": {},
   "outputs": [
    {
     "name": "stdout",
     "output_type": "stream",
     "text": [
      "Over the past 3 years, the auto-correlation of Costco Daily Point Change is: 0.16637889500752712\n"
     ]
    }
   ],
   "source": [
    "print('Over the past 3 years, the auto-correlation of Costco Daily Point Change is: 0.16637889500752712')"
   ]
  },
  {
   "cell_type": "markdown",
   "metadata": {},
   "source": [
    "FACEBOOK"
   ]
  },
  {
   "cell_type": "code",
   "execution_count": 299,
   "metadata": {},
   "outputs": [
    {
     "name": "stdout",
     "output_type": "stream",
     "text": [
      "Over the past 8 years, the auto-correlation of FB daily point change is:0.20512517905862418\n"
     ]
    }
   ],
   "source": [
    "stock_autocorr('FB')"
   ]
  },
  {
   "cell_type": "code",
   "execution_count": 300,
   "metadata": {},
   "outputs": [
    {
     "name": "stdout",
     "output_type": "stream",
     "text": [
      "Over the past 3 years, the auto-correlation of Facebook Daily Point Change is: 0.16848422643127792\n"
     ]
    }
   ],
   "source": [
    "print('Over the past 3 years, the auto-correlation of Facebook Daily Point Change is: 0.16848422643127792')"
   ]
  },
  {
   "cell_type": "markdown",
   "metadata": {},
   "source": [
    "Goldman Sachs"
   ]
  },
  {
   "cell_type": "code",
   "execution_count": 301,
   "metadata": {},
   "outputs": [
    {
     "name": "stdout",
     "output_type": "stream",
     "text": [
      "Over the past 8 years, the auto-correlation of GS daily point change is:0.2209476905290296\n"
     ]
    }
   ],
   "source": [
    "stock_autocorr('GS')"
   ]
  },
  {
   "cell_type": "code",
   "execution_count": 302,
   "metadata": {},
   "outputs": [
    {
     "name": "stdout",
     "output_type": "stream",
     "text": [
      "Over the past 3 years, the auto-correlation of Goldman Sachs Daily Point Change is: 0.20217490841631683\n"
     ]
    }
   ],
   "source": [
    "print('Over the past 3 years, the auto-correlation of Goldman Sachs Daily Point Change is: 0.20217490841631683')"
   ]
  },
  {
   "cell_type": "markdown",
   "metadata": {},
   "source": [
    "Home Depot"
   ]
  },
  {
   "cell_type": "code",
   "execution_count": 304,
   "metadata": {},
   "outputs": [
    {
     "name": "stdout",
     "output_type": "stream",
     "text": [
      "Over the past 8 years, the auto-correlation of HD daily point change is:0.23931120473266865\n"
     ]
    }
   ],
   "source": [
    "stock_autocorr('HD')"
   ]
  },
  {
   "cell_type": "code",
   "execution_count": 305,
   "metadata": {},
   "outputs": [
    {
     "name": "stdout",
     "output_type": "stream",
     "text": [
      "Over the past 3 years, the auto-correlation of HomeDepot Daily Point Change is:0.13527968964541465 \n"
     ]
    }
   ],
   "source": [
    "print('Over the past 3 years, the auto-correlation of HomeDepot Daily Point Change is:0.13527968964541465 ')"
   ]
  },
  {
   "cell_type": "markdown",
   "metadata": {},
   "source": [
    "NetFlix"
   ]
  },
  {
   "cell_type": "code",
   "execution_count": 306,
   "metadata": {},
   "outputs": [
    {
     "name": "stdout",
     "output_type": "stream",
     "text": [
      "Over the past 8 years, the auto-correlation of NFLX daily point change is:0.20867505374678033\n"
     ]
    }
   ],
   "source": [
    "stock_autocorr('NFLX')"
   ]
  },
  {
   "cell_type": "code",
   "execution_count": 307,
   "metadata": {},
   "outputs": [
    {
     "name": "stdout",
     "output_type": "stream",
     "text": [
      "Over the past 3 years, the auto-correlation of NetFlix Daily Point Change is:0.21998729077185003\n"
     ]
    }
   ],
   "source": [
    "print('Over the past 3 years, the auto-correlation of NetFlix Daily Point Change is:0.21998729077185003')"
   ]
  },
  {
   "cell_type": "markdown",
   "metadata": {},
   "source": [
    "Verizon Comm.\n"
   ]
  },
  {
   "cell_type": "code",
   "execution_count": 308,
   "metadata": {},
   "outputs": [
    {
     "name": "stdout",
     "output_type": "stream",
     "text": [
      "Over the past 8 years, the auto-correlation of VZ daily point change is:0.23862739090420726\n"
     ]
    }
   ],
   "source": [
    "stock_autocorr('VZ')"
   ]
  },
  {
   "cell_type": "code",
   "execution_count": 309,
   "metadata": {},
   "outputs": [
    {
     "name": "stdout",
     "output_type": "stream",
     "text": [
      "Over the past 3 years, the auto-correlation of Verizon Daily Point Change is:0.2527630280175089\n"
     ]
    }
   ],
   "source": [
    "print('Over the past 3 years, the auto-correlation of Verizon Daily Point Change is:0.2527630280175089')"
   ]
  },
  {
   "cell_type": "markdown",
   "metadata": {},
   "source": [
    "TESLA"
   ]
  },
  {
   "cell_type": "code",
   "execution_count": 310,
   "metadata": {},
   "outputs": [
    {
     "name": "stdout",
     "output_type": "stream",
     "text": [
      "Over the past 8 years, the auto-correlation of TSLA daily point change is:0.22962772485430671\n"
     ]
    }
   ],
   "source": [
    "stock_autocorr('TSLA')"
   ]
  },
  {
   "cell_type": "code",
   "execution_count": 311,
   "metadata": {},
   "outputs": [
    {
     "name": "stdout",
     "output_type": "stream",
     "text": [
      "Over the past 3 years, the auto-correlation of Tesla Daily Point Change is:0.25970183134221386\n"
     ]
    }
   ],
   "source": [
    "print('Over the past 3 years, the auto-correlation of Tesla Daily Point Change is:0.25970183134221386')"
   ]
  },
  {
   "cell_type": "code",
   "execution_count": null,
   "metadata": {
    "collapsed": true
   },
   "outputs": [],
   "source": []
  }
 ],
 "metadata": {
  "kernelspec": {
   "display_name": "Python 3",
   "language": "python",
   "name": "python3"
  },
  "language_info": {
   "codemirror_mode": {
    "name": "ipython",
    "version": 3
   },
   "file_extension": ".py",
   "mimetype": "text/x-python",
   "name": "python",
   "nbconvert_exporter": "python",
   "pygments_lexer": "ipython3",
   "version": "3.5.4"
  }
 },
 "nbformat": 4,
 "nbformat_minor": 2
}
